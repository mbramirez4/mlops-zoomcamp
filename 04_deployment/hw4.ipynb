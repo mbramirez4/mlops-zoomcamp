{
 "cells": [
  {
   "cell_type": "code",
   "execution_count": 1,
   "id": "2c51efaa",
   "metadata": {},
   "outputs": [
    {
     "name": "stdout",
     "output_type": "stream",
     "text": [
      "scikit-learn==1.4.2\n"
     ]
    }
   ],
   "source": [
    "!pip freeze | grep scikit-learn"
   ]
  },
  {
   "cell_type": "code",
   "execution_count": 2,
   "id": "4acf73a0-51b5-4663-9bb8-8eb947863e17",
   "metadata": {},
   "outputs": [
    {
     "name": "stdout",
     "output_type": "stream",
     "text": [
      "Python 3.11.9\n"
     ]
    }
   ],
   "source": [
    "!python -V"
   ]
  },
  {
   "cell_type": "code",
   "execution_count": 3,
   "id": "0ef880a0",
   "metadata": {},
   "outputs": [],
   "source": [
    "import json\n",
    "import pickle\n",
    "\n",
    "import requests\n",
    "import pandas as pd"
   ]
  },
  {
   "cell_type": "code",
   "execution_count": null,
   "id": "7836ccfd",
   "metadata": {},
   "outputs": [],
   "source": [
    "with open('homework/model.bin', 'rb') as f_in:\n",
    "    dv, model = pickle.load(f_in)"
   ]
  },
  {
   "cell_type": "code",
   "execution_count": 5,
   "id": "41c08294",
   "metadata": {},
   "outputs": [],
   "source": [
    "categorical = ['PULocationID', 'DOLocationID']\n",
    "\n",
    "def read_data(filename):\n",
    "    df = pd.read_parquet(filename)\n",
    "    \n",
    "    df['duration'] = df.tpep_dropoff_datetime - df.tpep_pickup_datetime\n",
    "    df['duration'] = df.duration.dt.total_seconds() / 60\n",
    "\n",
    "    df = df[(df.duration >= 1) & (df.duration <= 60)].copy()\n",
    "\n",
    "    df[categorical] = df[categorical].fillna(-1).astype('int').astype('str')\n",
    "    \n",
    "    return df"
   ]
  },
  {
   "cell_type": "code",
   "execution_count": 6,
   "id": "4854399a",
   "metadata": {},
   "outputs": [],
   "source": [
    "year = 2023\n",
    "month = 3\n",
    "df = read_data(f'https://d37ci6vzurychx.cloudfront.net/trip-data/yellow_tripdata_{year:04d}-{month:02d}.parquet')"
   ]
  },
  {
   "cell_type": "code",
   "execution_count": 7,
   "id": "669fda0a",
   "metadata": {},
   "outputs": [],
   "source": [
    "dicts = df[categorical].to_dict(orient='records')\n",
    "X_val = dv.transform(dicts)\n",
    "y_pred = model.predict(X_val)"
   ]
  },
  {
   "cell_type": "markdown",
   "id": "7e3289b1",
   "metadata": {},
   "source": [
    "# Q1\n",
    "Standard deviation of the predicted trip duration"
   ]
  },
  {
   "cell_type": "code",
   "execution_count": 8,
   "id": "bf532ae7-1897-428c-ba0c-875ccaf7d76c",
   "metadata": {},
   "outputs": [
    {
     "data": {
      "text/plain": [
       "6.247488852238703"
      ]
     },
     "execution_count": 8,
     "metadata": {},
     "output_type": "execute_result"
    }
   ],
   "source": [
    "y_pred.std()"
   ]
  },
  {
   "cell_type": "markdown",
   "id": "9cafc09a",
   "metadata": {},
   "source": [
    "# Q2\n",
    "Size of dataframe file with predictions: 66MB"
   ]
  },
  {
   "cell_type": "code",
   "execution_count": 9,
   "id": "961d1432",
   "metadata": {},
   "outputs": [],
   "source": [
    "df[\"ride_id\"] = f\"{year:04d}/{month:02d}_\" + df.index.astype(\"str\")"
   ]
  },
  {
   "cell_type": "code",
   "execution_count": 10,
   "id": "e0f67562",
   "metadata": {},
   "outputs": [],
   "source": [
    "output_file = f\"output/yelow_taxi_{year:04d}-{month:02d}.parquet\"\n",
    "\n",
    "df_result = pd.DataFrame()\n",
    "df_result[\"ride_id\"] = df[\"ride_id\"].copy()\n",
    "df_result[\"prediction\"] = y_pred\n",
    "\n",
    "df_result.to_parquet(\n",
    "    output_file,\n",
    "    engine=\"pyarrow\",\n",
    "    compression=None,\n",
    "    index=False\n",
    ")"
   ]
  },
  {
   "cell_type": "markdown",
   "id": "adc44148",
   "metadata": {},
   "source": [
    "# Q3\n",
    "\n",
    "`!jupyter nbconvert --to script starter.ipynb`"
   ]
  },
  {
   "cell_type": "code",
   "execution_count": 11,
   "id": "7d6bff39",
   "metadata": {},
   "outputs": [],
   "source": [
    "# !jupyter nbconvert --to script homework/starter.ipynb"
   ]
  },
  {
   "cell_type": "markdown",
   "id": "60e9a235",
   "metadata": {},
   "source": [
    "# Q4\n",
    "\n",
    "`pipenv install scikit-learn==1.5.0 pandas --python=3.10.13`\n",
    "\n",
    "scikit-learn hash:\n",
    "`sha256:057b991ac64b3e75c9c04b5f9395eaf19a6179244c089afdebaad98264bff37c`"
   ]
  },
  {
   "cell_type": "markdown",
   "id": "dc266ee8",
   "metadata": {},
   "source": [
    "# Q5\n",
    "\n",
    "mean predicted duration: 14.29"
   ]
  },
  {
   "cell_type": "code",
   "execution_count": null,
   "id": "8d658879",
   "metadata": {},
   "outputs": [],
   "source": [
    "!python homework/starter.py --month 4 --year 2023"
   ]
  },
  {
   "cell_type": "markdown",
   "id": "262bd108",
   "metadata": {},
   "source": [
    "# Q6"
   ]
  },
  {
   "cell_type": "code",
   "execution_count": 13,
   "id": "be1f3e48",
   "metadata": {},
   "outputs": [],
   "source": [
    "url = \"http://0.0.0.0:9696/predict\"\n",
    "data = {\n",
    "    \"year\": 2023,\n",
    "    \"month\": 5\n",
    "}\n",
    "response = requests.post(url, json=data)"
   ]
  },
  {
   "cell_type": "code",
   "execution_count": 14,
   "id": "386e1bf9",
   "metadata": {},
   "outputs": [
    {
     "data": {
      "text/plain": [
       "0.19174419265916945"
      ]
     },
     "execution_count": 14,
     "metadata": {},
     "output_type": "execute_result"
    }
   ],
   "source": [
    "json.loads(response.content)[\"mean_predicted_duration\"]"
   ]
  }
 ],
 "metadata": {
  "kernelspec": {
   "display_name": "Python 3 (ipykernel)",
   "language": "python",
   "name": "python3"
  },
  "language_info": {
   "codemirror_mode": {
    "name": "ipython",
    "version": 3
   },
   "file_extension": ".py",
   "mimetype": "text/x-python",
   "name": "python",
   "nbconvert_exporter": "python",
   "pygments_lexer": "ipython3",
   "version": "3.11.9"
  }
 },
 "nbformat": 4,
 "nbformat_minor": 5
}
