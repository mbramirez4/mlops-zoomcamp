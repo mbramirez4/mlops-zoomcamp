{
 "cells": [
  {
   "cell_type": "markdown",
   "id": "7bf05e7e",
   "metadata": {},
   "source": [
    "# Baseline model for batch monitoring example"
   ]
  },
  {
   "cell_type": "code",
   "execution_count": 1,
   "id": "7320039b",
   "metadata": {},
   "outputs": [],
   "source": [
    "import requests\n",
    "import datetime\n",
    "import pandas as pd\n",
    "\n",
    "from evidently import ColumnMapping\n",
    "from evidently.report import Report\n",
    "from evidently.metrics import ColumnDriftMetric, DatasetDriftMetric, DatasetMissingValuesMetric\n",
    "from evidently.metrics import ColumnCorrelationsMetric, ColumnQuantileMetric"
   ]
  },
  {
   "cell_type": "code",
   "execution_count": 2,
   "id": "ebcd8eb5",
   "metadata": {},
   "outputs": [],
   "source": [
    "files = [('green_tripdata_2022-02.parquet', './data'),\n",
    "         ('green_tripdata_2022-01.parquet', './data'),\n",
    "         ('green_tripdata_2024-03.parquet', './data')]\n",
    "\n",
    "print(\"Download files:\")\n",
    "for file, path in files:\n",
    "    url=f\"https://d37ci6vzurychx.cloudfront.net/trip-data/{file}\"\n",
    "    resp=requests.get(url, stream=True)\n",
    "    save_path=f\"{path}/{file}\"\n",
    "    with open(save_path, \"wb\") as handle:\n",
    "        for data in tqdm(resp.iter_content(),\n",
    "                        desc=f\"{file}\",\n",
    "                        postfix=f\"save to {save_path}\",\n",
    "                        total=int(resp.headers[\"Content-Length\"])):\n",
    "            handle.write(data)"
   ]
  },
  {
   "cell_type": "code",
   "execution_count": 3,
   "id": "6735ae38",
   "metadata": {},
   "outputs": [
    {
     "data": {
      "text/plain": [
       "57457"
      ]
     },
     "execution_count": 3,
     "metadata": {},
     "output_type": "execute_result"
    }
   ],
   "source": [
    "mar_data = pd.read_parquet('data/green_tripdata_2024-03.parquet')\n",
    "len(mar_data)"
   ]
  },
  {
   "cell_type": "markdown",
   "id": "a195b327",
   "metadata": {},
   "source": [
    "# Evidently Report"
   ]
  },
  {
   "cell_type": "code",
   "execution_count": 4,
   "id": "71210008",
   "metadata": {},
   "outputs": [],
   "source": [
    "# data labeling\n",
    "target = \"duration_min\"\n",
    "num_features = [\"passenger_count\", \"trip_distance\", \"fare_amount\", \"total_amount\"]\n",
    "cat_features = [\"PULocationID\", \"DOLocationID\"]"
   ]
  },
  {
   "cell_type": "code",
   "execution_count": 5,
   "id": "56403137",
   "metadata": {},
   "outputs": [],
   "source": [
    "column_mapping = ColumnMapping(\n",
    "    target=None,\n",
    "    prediction='prediction',\n",
    "    numerical_features=num_features,\n",
    "    categorical_features=cat_features\n",
    ")"
   ]
  },
  {
   "cell_type": "markdown",
   "id": "ce84ced4",
   "metadata": {},
   "source": [
    "# Q2\n",
    "\n",
    "`ColumnCorrelationsMetric`"
   ]
  },
  {
   "cell_type": "code",
   "execution_count": 6,
   "id": "36bf31c2",
   "metadata": {},
   "outputs": [],
   "source": [
    "report = Report(metrics=[\n",
    "    ColumnDriftMetric(column_name='prediction'),\n",
    "    DatasetDriftMetric(),\n",
    "    DatasetMissingValuesMetric(),\n",
    "    ColumnCorrelationsMetric(column_name=\"fare_amount\"),\n",
    "    ColumnQuantileMetric(column_name=\"fare_amount\", quantile=0.5)\n",
    "]\n",
    ")"
   ]
  },
  {
   "cell_type": "code",
   "execution_count": 7,
   "id": "8d1cf923",
   "metadata": {},
   "outputs": [],
   "source": [
    "\n",
    "def process_data(df):\n",
    "    df[\"duration_min\"] = df.lpep_dropoff_datetime - df.lpep_pickup_datetime\n",
    "    df.duration_min = df.duration_min.apply(lambda td : float(td.total_seconds())/60)\n",
    "    df[\"prediction\"] = df.duration_min\n",
    "    return df\n",
    "\n",
    "jan_data = pd.read_parquet('data/green_tripdata_2022-01.parquet')\n",
    "jan_data = process_data(jan_data)\n",
    "mar_data = process_data(mar_data)"
   ]
  },
  {
   "cell_type": "code",
   "execution_count": 8,
   "id": "996eb8b8",
   "metadata": {},
   "outputs": [
    {
     "name": "stderr",
     "output_type": "stream",
     "text": [
      "WARNING:root:Column ehail_fee have different types in reference object and current float64. Returning type from reference\n"
     ]
    }
   ],
   "source": [
    "report.run(reference_data=jan_data, current_data=mar_data, column_mapping=column_mapping)"
   ]
  },
  {
   "cell_type": "code",
   "execution_count": null,
   "id": "3e7aaea2",
   "metadata": {},
   "outputs": [],
   "source": [
    "report.show(mode='inline')"
   ]
  },
  {
   "cell_type": "markdown",
   "id": "fd6aa6d0",
   "metadata": {},
   "source": [
    "# Q3\n",
    "\n",
    "max q50 for fare_amount = 14.2"
   ]
  },
  {
   "cell_type": "code",
   "execution_count": 10,
   "id": "106f5e23",
   "metadata": {},
   "outputs": [
    {
     "data": {
      "text/plain": [
       "median    14.2\n",
       "dtype: float64"
      ]
     },
     "execution_count": 10,
     "metadata": {},
     "output_type": "execute_result"
    }
   ],
   "source": [
    "begin = datetime.datetime(2024, 3, 1, 0, 0)\n",
    "report = Report(metrics = [\n",
    "    ColumnQuantileMetric(column_name=\"fare_amount\", quantile=0.5)\n",
    "])\n",
    "\n",
    "def calculate_metrics(data, i):\n",
    "    current_data = data[\n",
    "        (data.lpep_pickup_datetime >= (begin + datetime.timedelta(i))) &\n",
    "        (data.lpep_pickup_datetime < (begin + datetime.timedelta(i + 1)))\n",
    "    ]\n",
    "\n",
    "    report.run(reference_data = None, current_data = current_data,\n",
    "        column_mapping=column_mapping)\n",
    "\n",
    "    result = report.as_dict()\n",
    "    median = result[\"metrics\"][0][\"result\"][\"current\"][\"value\"]\n",
    "    metrics = {\"median\": median}\n",
    "    \n",
    "    return metrics\n",
    "\n",
    "metrics = []\n",
    "for i in range(29):\n",
    "    metrics.append(calculate_metrics(mar_data, i))\n",
    "\n",
    "q50 = pd.DataFrame(metrics)\n",
    "q50.max()"
   ]
  },
  {
   "cell_type": "markdown",
   "id": "31671fc4",
   "metadata": {},
   "source": [
    "# Q4\n",
    "\n",
    "`project_folder/dashboards`"
   ]
  }
 ],
 "metadata": {
  "kernelspec": {
   "display_name": "Python 3 (ipykernel)",
   "language": "python",
   "name": "python3"
  },
  "language_info": {
   "codemirror_mode": {
    "name": "ipython",
    "version": 3
   },
   "file_extension": ".py",
   "mimetype": "text/x-python",
   "name": "python",
   "nbconvert_exporter": "python",
   "pygments_lexer": "ipython3",
   "version": "3.11.9"
  }
 },
 "nbformat": 4,
 "nbformat_minor": 5
}
