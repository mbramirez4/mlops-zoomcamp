{
 "cells": [
  {
   "cell_type": "code",
   "execution_count": 1,
   "metadata": {},
   "outputs": [],
   "source": [
    "from glob import glob\n",
    "\n",
    "import mlflow"
   ]
  },
  {
   "cell_type": "markdown",
   "metadata": {},
   "source": [
    "# Q1"
   ]
  },
  {
   "cell_type": "code",
   "execution_count": 2,
   "metadata": {},
   "outputs": [
    {
     "name": "stdout",
     "output_type": "stream",
     "text": [
      "mlflow, version 2.13.0\n"
     ]
    }
   ],
   "source": [
    "!mlflow --version"
   ]
  },
  {
   "cell_type": "markdown",
   "metadata": {},
   "source": [
    "# Q2"
   ]
  },
  {
   "cell_type": "code",
   "execution_count": 3,
   "metadata": {},
   "outputs": [],
   "source": [
    "!python ./homework/preprocess_data.py \\\n",
    "    --raw_data_path \"./data\" \\\n",
    "    --dest_path \"./output\""
   ]
  },
  {
   "cell_type": "code",
   "execution_count": 4,
   "metadata": {},
   "outputs": [
    {
     "data": {
      "text/plain": [
       "4"
      ]
     },
     "execution_count": 4,
     "metadata": {},
     "output_type": "execute_result"
    }
   ],
   "source": [
    "len(glob(\"./output/*\"))"
   ]
  },
  {
   "cell_type": "markdown",
   "metadata": {},
   "source": [
    "# Q3"
   ]
  },
  {
   "cell_type": "code",
   "execution_count": 5,
   "metadata": {},
   "outputs": [
    {
     "name": "stdout",
     "output_type": "stream",
     "text": [
      "2024/05/24 22:54:16 WARNING mlflow.utils.autologging_utils: MLflow autologging encountered a warning: \"/Users/mbonilla/miniconda3/envs/mlops_zoomcamp/lib/python3.11/site-packages/_distutils_hack/__init__.py:26: UserWarning: Setuptools is replacing distutils.\"\n"
     ]
    }
   ],
   "source": [
    "!python homework/train.py --data_path \"./output\""
   ]
  },
  {
   "cell_type": "code",
   "execution_count": 6,
   "metadata": {},
   "outputs": [
    {
     "data": {
      "text/plain": [
       "{'bootstrap': 'True',\n",
       " 'max_depth': '10',\n",
       " 'max_samples': 'None',\n",
       " 'min_weight_fraction_leaf': '0.0',\n",
       " 'max_leaf_nodes': 'None',\n",
       " 'min_samples_leaf': '1',\n",
       " 'random_state': '0',\n",
       " 'min_impurity_decrease': '0.0',\n",
       " 'verbose': '0',\n",
       " 'n_estimators': '100',\n",
       " 'criterion': 'squared_error',\n",
       " 'oob_score': 'False',\n",
       " 'ccp_alpha': '0.0',\n",
       " 'warm_start': 'False',\n",
       " 'max_features': '1.0',\n",
       " 'monotonic_cst': 'None',\n",
       " 'n_jobs': 'None',\n",
       " 'min_samples_split': '2'}"
      ]
     },
     "execution_count": 6,
     "metadata": {},
     "output_type": "execute_result"
    }
   ],
   "source": [
    "client = mlflow.client.MlflowClient()\n",
    "\n",
    "run = client.search_runs(experiment_ids=[\"0\"])[0]\n",
    "run.data.params"
   ]
  },
  {
   "cell_type": "markdown",
   "metadata": {},
   "source": [
    "# Q4"
   ]
  },
  {
   "cell_type": "markdown",
   "metadata": {},
   "source": [
    "```\n",
    "mlflow server \\\n",
    "    --backend-store-uri sqlite:///mlflow.db \\\n",
    "    --default-artifact-root ./artifacts\n",
    "```"
   ]
  },
  {
   "cell_type": "markdown",
   "metadata": {},
   "source": [
    "# Q5"
   ]
  },
  {
   "cell_type": "code",
   "execution_count": 7,
   "metadata": {},
   "outputs": [
    {
     "name": "stdout",
     "output_type": "stream",
     "text": [
      "2024/05/24 22:54:19 INFO mlflow.tracking.fluent: Experiment with name 'random-forest-hyperopt' does not exist. Creating a new experiment.\n",
      "100%|██████████| 15/15 [00:30<00:00,  2.02s/trial, best loss: 5.335419588556921]\n"
     ]
    }
   ],
   "source": [
    "!python homework/hpo.py"
   ]
  },
  {
   "cell_type": "code",
   "execution_count": 8,
   "metadata": {},
   "outputs": [
    {
     "name": "stdout",
     "output_type": "stream",
     "text": [
      "{'rmse': 5.335419588556921}\n"
     ]
    }
   ],
   "source": [
    "tracking_uri = \"http://127.0.0.1:5000\"\n",
    "\n",
    "client = mlflow.client.MlflowClient(tracking_uri=tracking_uri)\n",
    "best_run = client.search_runs(\n",
    "    experiment_ids=[1],\n",
    "    order_by=[\"metrics.rmse ASC\"]\n",
    ")[0]\n",
    "\n",
    "print(best_run.data.metrics)\n"
   ]
  },
  {
   "cell_type": "markdown",
   "metadata": {},
   "source": [
    "# Q6"
   ]
  },
  {
   "cell_type": "code",
   "execution_count": 9,
   "metadata": {},
   "outputs": [
    {
     "name": "stdout",
     "output_type": "stream",
     "text": [
      "2024/05/24 22:54:51 INFO mlflow.tracking.fluent: Experiment with name 'random-forest-best-models' does not exist. Creating a new experiment.\n",
      "2024/05/24 22:54:56 WARNING mlflow.utils.autologging_utils: MLflow autologging encountered a warning: \"/Users/mbonilla/miniconda3/envs/mlops_zoomcamp/lib/python3.11/site-packages/_distutils_hack/__init__.py:26: UserWarning: Setuptools is replacing distutils.\"\n",
      "Successfully registered model 'green-taxi-duration-model'.\n",
      "2024/05/24 22:55:15 INFO mlflow.store.model_registry.abstract_store: Waiting up to 300 seconds for model version to finish creation. Model name: green-taxi-duration-model, version 1\n",
      "Created version '1' of model 'green-taxi-duration-model'.\n"
     ]
    }
   ],
   "source": [
    "!python homework/register_model.py"
   ]
  },
  {
   "cell_type": "code",
   "execution_count": 10,
   "metadata": {},
   "outputs": [
    {
     "data": {
      "text/plain": [
       "{'training_mean_squared_error': 24.785660360279664,\n",
       " 'training_mean_absolute_error': 3.23365652419934,\n",
       " 'training_r2_score': 0.6956122194293166,\n",
       " 'training_root_mean_squared_error': 4.978519896543516,\n",
       " 'training_score': 0.6956122194293166,\n",
       " 'val_rmse': 5.335419588556921,\n",
       " 'test_rmse': 5.567408012462019}"
      ]
     },
     "execution_count": 10,
     "metadata": {},
     "output_type": "execute_result"
    }
   ],
   "source": [
    "model = client.get_registered_model(\"green-taxi-duration-model\")\n",
    "client.get_run(model.latest_versions[0].run_id).data.metrics"
   ]
  }
 ],
 "metadata": {
  "kernelspec": {
   "display_name": "mlops_zoomcamp",
   "language": "python",
   "name": "python3"
  },
  "language_info": {
   "codemirror_mode": {
    "name": "ipython",
    "version": 3
   },
   "file_extension": ".py",
   "mimetype": "text/x-python",
   "name": "python",
   "nbconvert_exporter": "python",
   "pygments_lexer": "ipython3",
   "version": "3.11.9"
  }
 },
 "nbformat": 4,
 "nbformat_minor": 2
}
